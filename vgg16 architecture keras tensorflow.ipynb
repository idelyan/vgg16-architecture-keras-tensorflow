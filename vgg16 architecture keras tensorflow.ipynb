{
 "cells": [
  {
   "cell_type": "code",
   "execution_count": null,
   "metadata": {},
   "outputs": [],
   "source": [
    "from tensorflow.keras.layers import Dense, Conv2D, MaxPooling2D, Flatten, Input\n",
    "from tensorflow.keras.models import Model"
   ]
  },
  {
   "cell_type": "code",
   "execution_count": null,
   "metadata": {},
   "outputs": [],
   "source": [
    "def vgg16(input_shape, n_classes):\n",
    "    \n",
    "    input = Input(input_shape)\n",
    "    \n",
    "    x = Conv2D(64, (3, 3), padding='same', activation='relu', name='conv_1_1')(input)\n",
    "    x = Conv2D(64, (3, 3), padding='same', activation='relu', name='conv_1_2')(x)\n",
    "    x = MaxPooling2D(pool_size=(2, 2), strides=(2, 2), padding='same', name='max_pool_1')\n",
    "    \n",
    "    x = Conv2D(128, (3, 3), padding='same', activation='relu', name='conv_2_1')(x)\n",
    "    x = Conv2D(128, (3, 3), padding='same', activation='relu', name='conv_2_2')(x)\n",
    "    x = MaxPooling2D(pool_size=(2, 2), strides=(2, 2), padding='same', name='max_pool_2')(x)\n",
    "    \n",
    "    x = Conv2D(256, (3, 3), padding='same', activation='relu', name='conv_3_1')(x)\n",
    "    x = Conv2D(256, (3, 3), padding='same', activation='relu', name='conv_3_2')(x)\n",
    "    x = Conv2D(256, (3, 3), padding='same', activation='relu', name='conv_3_3')(x)\n",
    "    x = MaxPooling2D(pool_size=(2, 2), strides=(2, 2), padding='same', name='max_pool_3')(x)\n",
    "    \n",
    "    x = Conv2D(512, (3, 3), padding='same', activation='relu', name='conv_4_1')(x)\n",
    "    x = Conv2D(512, (3, 3), padding='same', activation='relu', name='conv_4_2')(x)\n",
    "    x = Conv2D(512, (3, 3), padding='same', activation='relu', name='conv_4_3')(x)\n",
    "    \n",
    "    x = Conv2D(512, (3, 3), padding='same', activation='relu', name='conv_5_1')(x)\n",
    "    x = Conv2D(512, (3, 3), padding='same', activation='relu', name='conv_5_2')(x)\n",
    "    x = Conv2D(512, (3, 3), padding='same', activation='relu', name='conv_5_3')(x)\n",
    "    x = MaxPooling2D(pool_size=(2, 2), strides=(2, 2), padding='same', name='max_pool_5')(x)\n",
    "    \n",
    "    x = Flatten()(x)\n",
    "    \n",
    "    x = Dense(4096, activation='relu')(x)\n",
    "    x = Dense(4096, activation='relu')(x)\n",
    "    \n",
    "    output = Dense(n_classes, activation='softmax')\n",
    "    \n",
    "    model = Input(input, output)\n",
    "    \n",
    "    return model"
   ]
  }
 ],
 "metadata": {
  "kernelspec": {
   "display_name": "Python 3",
   "language": "python",
   "name": "python3"
  },
  "language_info": {
   "codemirror_mode": {
    "name": "ipython",
    "version": 3
   },
   "file_extension": ".py",
   "mimetype": "text/x-python",
   "name": "python",
   "nbconvert_exporter": "python",
   "pygments_lexer": "ipython3",
   "version": "3.6.10"
  }
 },
 "nbformat": 4,
 "nbformat_minor": 4
}
